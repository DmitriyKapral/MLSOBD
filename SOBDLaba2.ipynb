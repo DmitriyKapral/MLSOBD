{
 "cells": [
  {
   "cell_type": "code",
   "execution_count": 1,
   "id": "8b1493ee-3c51-4995-a419-8d6041f00d4b",
   "metadata": {},
   "outputs": [
    {
     "name": "stdout",
     "output_type": "stream",
     "text": [
      "+---+----------+---------+----------+----+-------+---------+------------+--------------+------+-------+\n",
      "|_c0|     brand|    model|  offer_id|year|mileage|fuel_type|engine_power|  transmission| wheel|  price|\n",
      "+---+----------+---------+----------+----+-------+---------+------------+--------------+------+-------+\n",
      "|  0|    Toyota|     Vitz|1102756899|2001|   6236|   Бензин|        70.0|автоматическая|Правый| 230000|\n",
      "|  1|LADA (ВАЗ)|     2107|1102754237|1995|  96000|   Бензин|        75.0|  механическая| Левый|  35000|\n",
      "|  2|    Daewoo|   Nubira|1102763224|1998|  50000|   Бензин|       106.0|  механическая| Левый|  45000|\n",
      "|  3| Chevrolet|     Aveo|1102757199|2014| 119120|   Бензин|       115.0|  механическая| Левый| 475000|\n",
      "|  4| Chevrolet|  Lacetti|1102760232|2011|  87650|   Бензин|       109.0|  механическая| Левый| 479000|\n",
      "|  5|       Kia|   Cerato|1102753937|2010| 160000|   Бензин|       126.0|  механическая| Левый| 520000|\n",
      "|  6|    Nissan| Wingroad|1102757232|2011| 132300|   Бензин|       109.0|      вариатор|Правый| 584000|\n",
      "|  7|LADA (ВАЗ)|     2115|1102769208|2006| 168000|   Бензин|        78.0|  механическая| Левый| 120000|\n",
      "|  8|       Kia|   Optima|1102771881|2017|  41000|   Бензин|       188.0|автоматическая| Левый|1199000|\n",
      "|  9|    Nissan|Qashqai+2|1102771908|2009| 181000|   Дизель|       103.0|  механическая| Левый| 750000|\n",
      "+---+----------+---------+----------+----+-------+---------+------------+--------------+------+-------+\n",
      "only showing top 10 rows\n",
      "\n"
     ]
    }
   ],
   "source": [
    "from pyspark.sql.types import *\n",
    "from pyspark.sql.functions import *\n",
    "from pyspark.sql import SparkSession\n",
    "\n",
    "from pyspark.ml import Pipeline\n",
    "from pyspark.ml.feature import VectorAssembler, StringIndexer, VectorIndexer, MinMaxScaler\n",
    "from pyspark.ml.regression import RandomForestRegressor\n",
    "from pyspark.ml.classification import LogisticRegression\n",
    "from pyspark.ml.tuning import ParamGridBuilder, CrossValidator\n",
    "from pyspark.ml.evaluation import RegressionEvaluator, BinaryClassificationEvaluator\n",
    "\n",
    "spark = SparkSession.builder.master(\"local[*]\").getOrCreate()\n",
    "filename_data = 'datasetelectro.csv'\n",
    "csv = spark.read.csv(filename_data, inferSchema=True, header=True)\n",
    "csv = csv.withColumn('mileage', csv.mileage.cast(IntegerType()))\n",
    "csv.show(10)"
   ]
  },
  {
   "cell_type": "code",
   "execution_count": 2,
   "id": "2c402a23-dda1-4739-988e-3a3a2622666c",
   "metadata": {},
   "outputs": [
    {
     "name": "stdout",
     "output_type": "stream",
     "text": [
      "Training Rows: 181606  Testing Rows: 77793\n"
     ]
    }
   ],
   "source": [
    "splits = csv.randomSplit([0.7, 0.3])\n",
    "train = splits[0]\n",
    "test = splits[1].withColumnRenamed(\"price\", \"truePrice\")\n",
    "train_rows = train.count()\n",
    "test_rows = test.count()\n",
    "print(\"Training Rows:\", train_rows, \" Testing Rows:\", test_rows)"
   ]
  },
  {
   "cell_type": "code",
   "execution_count": 3,
   "id": "50f315c1-3bd5-4e21-9904-39b585d90b3b",
   "metadata": {},
   "outputs": [],
   "source": [
    "strIdx = StringIndexer(inputCols = ['brand', 'model', 'fuel_type','transmission', 'wheel'], \n",
    "                       outputCols = ['brand_index', 'model_index', 'fuel_type_index', 'transmission_index', 'wheel_index'], \n",
    "                       handleInvalid = \"keep\")\n",
    "catVect = VectorAssembler(inputCols = ['brand_index', 'model_index', 'fuel_type_index','transmission_index', 'wheel_index'],\n",
    "                          outputCol=\"features_cat\")\n",
    "catIdx = VectorIndexer(inputCol = catVect.getOutputCol(), \n",
    "                       outputCol = \"features_index\", \n",
    "                       handleInvalid = \"keep\")\n",
    "numVect = VectorAssembler(inputCols = [\"mileage\",'engine_power', 'year'], \n",
    "                          outputCol=\"features_num\", \n",
    "                          handleInvalid = \"keep\")\n",
    "minMax = MinMaxScaler(inputCol = numVect.getOutputCol(), \n",
    "                      outputCol=\"features_norm\")\n",
    "featVect = VectorAssembler(inputCols=[\"features_index\", \"features_norm\"], \n",
    "                           outputCol=\"features\", \n",
    "                           handleInvalid = \"keep\")\n",
    "rfr = RandomForestRegressor(featuresCol = 'features', \n",
    "                      labelCol='price',\n",
    "                      numTrees = 10,\n",
    "                      maxDepth=2,\n",
    "                      maxBins = 181834)\n",
    "pipeline = Pipeline(stages=[strIdx, catVect, catIdx, numVect, minMax, featVect, rfr])"
   ]
  },
  {
   "cell_type": "code",
   "execution_count": 4,
   "id": "fcb8e475-d3da-45df-87c0-a0f658467a04",
   "metadata": {},
   "outputs": [],
   "source": [
    "pipelineModel = pipeline.fit(train)"
   ]
  },
  {
   "cell_type": "code",
   "execution_count": 5,
   "id": "2d5f5ee1-ae28-4a4a-9f98-9ee134c6ca5c",
   "metadata": {},
   "outputs": [
    {
     "name": "stdout",
     "output_type": "stream",
     "text": [
      "+--------------------+------------------+---------+\n",
      "|            features|        prediction|truePrice|\n",
      "+--------------------+------------------+---------+\n",
      "|[4.0,57.0,0.0,0.0...| 669068.1614277184|   520000|\n",
      "|[2.0,215.0,0.0,2....| 492916.3665875532|   584000|\n",
      "|(8,[1,5,6,7],[16....|166562.25895872113|   120000|\n",
      "|[2.0,404.0,1.0,0....| 642843.5537908359|   750000|\n",
      "|[10.0,135.0,0.0,2...| 785747.4556966085|   889000|\n",
      "|[4.0,30.0,0.0,0.0...| 750908.2812455347|   875000|\n",
      "|[3.0,99.0,0.0,1.0...| 549124.6197953405|   530000|\n",
      "|[6.0,36.0,0.0,0.0...| 285668.5128573777|   250000|\n",
      "|[18.0,15.0,0.0,0....|166562.25895872113|    45000|\n",
      "|(8,[5,6,7],[0.203...| 440836.8789195012|   539990|\n",
      "|(8,[1,5,6,7],[5.0...|166562.25895872113|    75000|\n",
      "|[3.0,68.0,0.0,1.0...| 559820.0316274439|   500000|\n",
      "|(8,[5,6,7],[0.173...|371715.54959993827|   561000|\n",
      "|[4.0,30.0,0.0,0.0...| 750908.2812455347|   777000|\n",
      "|[13.0,167.0,1.0,1...| 549124.6197953405|   500000|\n",
      "|[3.0,276.0,0.0,1....|267964.90474274184|   300000|\n",
      "|[6.0,21.0,0.0,0.0...|181426.25743783655|    95000|\n",
      "|[7.0,281.0,0.0,1....| 405966.7547064901|   220000|\n",
      "|[6.0,21.0,0.0,0.0...|181426.25743783655|   140000|\n",
      "|[45.0,321.0,0.0,0...| 285668.5128573777|   180000|\n",
      "+--------------------+------------------+---------+\n",
      "only showing top 20 rows\n",
      "\n"
     ]
    }
   ],
   "source": [
    "pred_df = pipelineModel.transform(test)\n",
    "pred_df.select(\"features\", \"prediction\", \"truePrice\").show()"
   ]
  },
  {
   "cell_type": "code",
   "execution_count": 6,
   "id": "bdd8727a-77dd-4f7e-9f4b-f66787581573",
   "metadata": {},
   "outputs": [],
   "source": [
    "from pyspark.ml.evaluation import RegressionEvaluator\n",
    "\n",
    "regressionEvaluator = RegressionEvaluator(predictionCol=\"prediction\", labelCol=\"truePrice\", metricName=\"rmse\")"
   ]
  },
  {
   "cell_type": "code",
   "execution_count": 7,
   "id": "69623009-7f64-44e6-a4f7-1a57cf87654e",
   "metadata": {},
   "outputs": [
    {
     "name": "stdout",
     "output_type": "stream",
     "text": [
      "The RMSE for the random forest regression model is 180333.89\n",
      "The MSE for the random forest regression model is 32520311016.46\n",
      "The R2 for the random forest regression model is 0.70\n",
      "The MAE for the random forest regression model is 128254.86\n"
     ]
    }
   ],
   "source": [
    "# RMSE\n",
    "rmse = regressionEvaluator.evaluate(pred_df)\n",
    "print(f\"The RMSE for the random forest regression model is {rmse:0.2f}\")\n",
    "# MSE\n",
    "mse = regressionEvaluator.setMetricName(\"mse\").evaluate(pred_df)\n",
    "print(f\"The MSE for the random forest regression model is {mse:0.2f}\")\n",
    "# R2\n",
    "r2 = regressionEvaluator.setMetricName(\"r2\").evaluate(pred_df)\n",
    "print(f\"The R2 for the random forest regression model is {r2:0.2f}\")\n",
    "# MAE\n",
    "mae = regressionEvaluator.setMetricName(\"mae\").evaluate(pred_df)\n",
    "print(f\"The MAE for the random forest regression model is {mae:0.2f}\")"
   ]
  },
  {
   "cell_type": "code",
   "execution_count": 8,
   "id": "3757871b-9a75-4055-a290-a33bf1566d40",
   "metadata": {},
   "outputs": [],
   "source": [
    "param_grid = ParamGridBuilder().\\\n",
    "    addGrid(rfr.numTrees, [10, 15, 20]).\\\n",
    "    addGrid(rfr.maxDepth, [1, 2, 4]).\\\n",
    "    addGrid(rfr.maxBins , [181834, 362432, 724864]).\\\n",
    "    build()"
   ]
  },
  {
   "cell_type": "code",
   "execution_count": 9,
   "id": "50461710-4613-4cda-b3e7-9076866aec00",
   "metadata": {},
   "outputs": [],
   "source": [
    "cv = CrossValidator(estimator=pipeline, \\\n",
    "                    estimatorParamMaps=param_grid, \\\n",
    "                    evaluator=RegressionEvaluator(\n",
    "                                predictionCol=\"prediction\", \\\n",
    "                                labelCol=\"price\", \\\n",
    "                                metricName=\"rmse\"), \\\n",
    "                    numFolds=2)"
   ]
  },
  {
   "cell_type": "code",
   "execution_count": 10,
   "id": "0fed7e91-7fc7-4c02-a3ba-8b7da5bd3980",
   "metadata": {},
   "outputs": [],
   "source": [
    "cv_model = cv.fit(train)"
   ]
  },
  {
   "cell_type": "code",
   "execution_count": 11,
   "id": "cd5fabc4-fbf0-4750-9080-e431ca54343e",
   "metadata": {},
   "outputs": [],
   "source": [
    "newPrediction = cv_model.transform(test)"
   ]
  },
  {
   "cell_type": "code",
   "execution_count": 12,
   "id": "e5016bc0-3a25-433b-91b5-156d7fb54695",
   "metadata": {},
   "outputs": [
    {
     "name": "stdout",
     "output_type": "stream",
     "text": [
      "The RMSE for the random forest regression model is 91192.43\n",
      "The MSE for the random forest regression model is 17543341114.54\n",
      "The R2 for the random forest regression model is 0.84\n",
      "The MAE for the random forest regression model is 91192.43\n"
     ]
    }
   ],
   "source": [
    "# RMSE\n",
    "rmse = regressionEvaluator.evaluate(newPrediction)\n",
    "print(f\"The RMSE for the random forest regression model is {rmse:0.2f}\")\n",
    "# MSE\n",
    "mse = regressionEvaluator.setMetricName(\"mse\").evaluate(newPrediction)\n",
    "print(f\"The MSE for the random forest regression model is {mse:0.2f}\")\n",
    "# R2\n",
    "r2 = regressionEvaluator.setMetricName(\"r2\").evaluate(newPrediction)\n",
    "print(f\"The R2 for the random forest regression model is {r2:0.2f}\")\n",
    "# MAE\n",
    "mae = regressionEvaluator.setMetricName(\"mae\").evaluate(newPrediction)\n",
    "print(f\"The MAE for the random forest regression model is {mae:0.2f}\")"
   ]
  },
  {
   "cell_type": "markdown",
   "id": "cd833298-1535-4dd7-ad56-5f2e894d41a2",
   "metadata": {},
   "source": [
    "2 часть"
   ]
  },
  {
   "cell_type": "code",
   "execution_count": 13,
   "id": "5532b935-6bbf-41d9-9b2d-89f7148901fa",
   "metadata": {},
   "outputs": [
    {
     "name": "stdout",
     "output_type": "stream",
     "text": [
      "+----------+---------+----------+----+-------+---------+------------+----------------+-------+-----+\n",
      "|     brand|    model|  offer_id|year|mileage|fuel_type|engine_power|    transmission|  price|label|\n",
      "+----------+---------+----------+----+-------+---------+------------+----------------+-------+-----+\n",
      "|    Toyota|     Vitz|1102756899|2001|   6236|   Бензин|        70.0|  автоматическая| 230000|    0|\n",
      "|LADA (ВАЗ)|     2107|1102754237|1995|  96000|   Бензин|        75.0|    механическая|  35000|    1|\n",
      "|    Daewoo|   Nubira|1102763224|1998|  50000|   Бензин|       106.0|    механическая|  45000|    1|\n",
      "| Chevrolet|     Aveo|1102757199|2014| 119120|   Бензин|       115.0|    механическая| 475000|    1|\n",
      "| Chevrolet|  Lacetti|1102760232|2011|  87650|   Бензин|       109.0|    механическая| 479000|    1|\n",
      "|       Kia|   Cerato|1102753937|2010| 160000|   Бензин|       126.0|    механическая| 520000|    1|\n",
      "|    Nissan| Wingroad|1102757232|2011| 132300|   Бензин|       109.0|        вариатор| 584000|    0|\n",
      "|LADA (ВАЗ)|     2115|1102769208|2006| 168000|   Бензин|        78.0|    механическая| 120000|    1|\n",
      "|       Kia|   Optima|1102771881|2017|  41000|   Бензин|       188.0|  автоматическая|1199000|    1|\n",
      "|    Nissan|Qashqai+2|1102771908|2009| 181000|   Дизель|       103.0|    механическая| 750000|    1|\n",
      "| Chevrolet|     Niva|1102771878|2009| 131000|   Бензин|        80.0|    механическая| 299899|    1|\n",
      "|       Kia|      Rio|1102768878|2013|  83947|   Бензин|       107.0|    механическая| 555000|    1|\n",
      "|Volkswagen|     Golf|1102778165|2011| 115895|   Бензин|       102.0|роботизированная| 590000|    1|\n",
      "|LADA (ВАЗ)|   Largus|1102769211|2017| 133000|   Бензин|       102.0|    механическая| 600000|    1|\n",
      "|LADA (ВАЗ)|   Priora|1102774903|2010| 201000|   Бензин|        98.0|    механическая| 189990|    1|\n",
      "|    Nissan|     Note|1102783857|2012| 135087|   Бензин|       110.0|  автоматическая| 530000|    1|\n",
      "|Mitsubishi|      ASX|1102799098|2014|  88100|   Бензин|       140.0|        вариатор| 889000|    1|\n",
      "|       Kia| Sportage|1102789844|2012| 175000|   Бензин|       150.0|    механическая| 875000|    1|\n",
      "|     Mazda|        3|1102799128|2011| 163500|   Бензин|       105.0|  автоматическая| 595000|    1|\n",
      "| Chevrolet|    Lanos|1102798798|2009| 164000|   Бензин|        86.0|    механическая| 158000|    1|\n",
      "+----------+---------+----------+----+-------+---------+------------+----------------+-------+-----+\n",
      "only showing top 20 rows\n",
      "\n"
     ]
    }
   ],
   "source": [
    "csv = csv.drop(csv._c0).withColumn('label', when(col('wheel') =='Левый', 1).otherwise(0))\n",
    "csv.drop(csv.wheel).show()"
   ]
  },
  {
   "cell_type": "code",
   "execution_count": 14,
   "id": "ea7ef318-b4aa-455e-b50f-5e826d931e10",
   "metadata": {},
   "outputs": [
    {
     "name": "stdout",
     "output_type": "stream",
     "text": [
      "Training Rows: 220316  Testing Rows: 39083\n"
     ]
    }
   ],
   "source": [
    "splits = csv.randomSplit([0.85, 0.15])\n",
    "train = splits[0]\n",
    "test = splits[1].withColumnRenamed(\"label\", \"trueLabel\")\n",
    "print(\"Training Rows:\", train.count(), \" Testing Rows:\", test.count())"
   ]
  },
  {
   "cell_type": "code",
   "execution_count": 15,
   "id": "59292fee-bc6b-4e73-9854-eba0b3f6e29b",
   "metadata": {},
   "outputs": [],
   "source": [
    "strIdx = StringIndexer(inputCols = ['brand', 'model', 'fuel_type','transmission'], \n",
    "                       outputCols = ['brand_index', 'model_index', 'fuel_type_index', 'transmission_index',], \n",
    "                       handleInvalid = \"keep\")\n",
    "catVect = VectorAssembler(inputCols = ['brand_index', 'model_index', 'fuel_type_index', 'transmission_index',], \n",
    "                          outputCol=\"features_cat\")\n",
    "catIdx = VectorIndexer(inputCol = catVect.getOutputCol(), \n",
    "                       outputCol = \"features_index\", \n",
    "                       handleInvalid = \"keep\")\n",
    "numVect = VectorAssembler(inputCols = [\"mileage\",'engine_power', 'year'], \n",
    "                          outputCol=\"features_num\", \n",
    "                          handleInvalid = \"keep\")\n",
    "minMax = MinMaxScaler(inputCol = numVect.getOutputCol(), \n",
    "                      outputCol=\"features_norm\")\n",
    "featVect = VectorAssembler(inputCols=[\"features_index\", \"features_norm\"], \n",
    "                           outputCol=\"features\", \n",
    "                           handleInvalid = \"keep\")\n",
    "lr = LogisticRegression(labelCol=\"label\", \n",
    "                        featuresCol=\"features\", \n",
    "                        maxIter=10,\n",
    "                        regParam=0.3)\n",
    "pipeline = Pipeline(stages=[strIdx, catVect, catIdx, numVect, minMax, featVect, lr])"
   ]
  },
  {
   "cell_type": "code",
   "execution_count": 16,
   "id": "f5cb3057-84f7-42bf-90a5-c3b6aa707fe0",
   "metadata": {},
   "outputs": [],
   "source": [
    "pipelineModel = pipeline.fit(train)"
   ]
  },
  {
   "cell_type": "code",
   "execution_count": 17,
   "id": "f55fcbff-fd20-4b15-a7f5-9c65e95572cc",
   "metadata": {},
   "outputs": [
    {
     "name": "stdout",
     "output_type": "stream",
     "text": [
      "+--------------------+----------+---------+\n",
      "|            features|prediction|trueLabel|\n",
      "+--------------------+----------+---------+\n",
      "|[65.0,1127.0,0.0,...|       1.0|        1|\n",
      "|[56.0,1163.0,0.0,...|       1.0|        1|\n",
      "|[56.0,1163.0,0.0,...|       1.0|        1|\n",
      "|[56.0,1305.0,0.0,...|       1.0|        1|\n",
      "|[17.0,131.0,0.0,0...|       1.0|        1|\n",
      "|[17.0,131.0,0.0,0...|       1.0|        1|\n",
      "|[17.0,131.0,0.0,0...|       1.0|        1|\n",
      "|[17.0,131.0,0.0,0...|       1.0|        1|\n",
      "|[17.0,131.0,0.0,0...|       1.0|        1|\n",
      "|[17.0,131.0,2.0,0...|       1.0|        1|\n",
      "|[17.0,131.0,0.0,0...|       1.0|        1|\n",
      "|[17.0,117.0,0.0,0...|       1.0|        1|\n",
      "|[17.0,117.0,0.0,0...|       1.0|        1|\n",
      "|[17.0,117.0,0.0,0...|       1.0|        1|\n",
      "|[17.0,117.0,0.0,0...|       1.0|        1|\n",
      "|[17.0,117.0,0.0,0...|       1.0|        1|\n",
      "|[17.0,117.0,0.0,0...|       1.0|        1|\n",
      "|[17.0,117.0,0.0,0...|       1.0|        1|\n",
      "|[17.0,117.0,0.0,1...|       1.0|        1|\n",
      "|[17.0,117.0,0.0,0...|       1.0|        1|\n",
      "+--------------------+----------+---------+\n",
      "only showing top 20 rows\n",
      "\n"
     ]
    }
   ],
   "source": [
    "pred_df = pipelineModel.transform(test)\n",
    "pred_df.select(\"features\", \"prediction\", \"trueLabel\").show()"
   ]
  },
  {
   "cell_type": "code",
   "execution_count": 18,
   "id": "d8e465da-2b79-417f-8ac6-08fabd8e06b7",
   "metadata": {},
   "outputs": [
    {
     "name": "stdout",
     "output_type": "stream",
     "text": [
      "+---------+------------------+\n",
      "|   metric|             value|\n",
      "+---------+------------------+\n",
      "|       TP|           35878.0|\n",
      "|       FP|            3203.0|\n",
      "|       TN|               0.0|\n",
      "|       FN|               2.0|\n",
      "|Precision|0.9180420153015532|\n",
      "|   Recall|0.9999442586399108|\n",
      "|       F1|0.9572444337722281|\n",
      "+---------+------------------+\n",
      "\n"
     ]
    }
   ],
   "source": [
    "tp = float(pred_df.filter(\"prediction == 1.0 AND truelabel == 1\").count())\n",
    "fp = float(pred_df.filter(\"prediction == 1.0 AND truelabel == 0\").count())\n",
    "tn = float(pred_df.filter(\"prediction == 0.0 AND truelabel == 0\").count())\n",
    "fn = float(pred_df.filter(\"prediction == 0.0 AND truelabel == 1\").count())\n",
    "pr = tp / (tp + fp)\n",
    "re = tp / (tp + fn)\n",
    "metrics = spark.createDataFrame([\n",
    " (\"TP\", tp),\n",
    " (\"FP\", fp),\n",
    " (\"TN\", tn),\n",
    " (\"FN\", fn),\n",
    " (\"Precision\", pr),\n",
    " (\"Recall\", re),\n",
    " (\"F1\", 2*pr*re/(re+pr))],[\"metric\", \"value\"])\n",
    "metrics.show()"
   ]
  },
  {
   "cell_type": "code",
   "execution_count": 19,
   "id": "708c8b5b-1741-4fbe-8397-a1660987e080",
   "metadata": {},
   "outputs": [
    {
     "name": "stdout",
     "output_type": "stream",
     "text": [
      "AUR =  0.9056657751181565\n"
     ]
    }
   ],
   "source": [
    "evaluator = BinaryClassificationEvaluator(labelCol=\"trueLabel\", rawPredictionCol=\"rawPrediction\", metricName=\"areaUnderROC\")\n",
    "aur = evaluator.evaluate(pred_df)\n",
    "print (\"AUR = \", aur)"
   ]
  },
  {
   "cell_type": "code",
   "execution_count": 20,
   "id": "dec9c78d-1b27-445c-8ad2-a6d53db00ab1",
   "metadata": {},
   "outputs": [],
   "source": [
    "paramGrid = ParamGridBuilder().\\\n",
    "    addGrid(lr.maxIter, [10, 20, 30]).\\\n",
    "    addGrid(lr.regParam, [0.3, 0.5, 0.7]).build()\n",
    "cv = CrossValidator(estimator=pipeline, evaluator=BinaryClassificationEvaluator(metricName='areaUnderPR'), estimatorParamMaps=paramGrid, \n",
    "                    numFolds=2)"
   ]
  },
  {
   "cell_type": "code",
   "execution_count": 21,
   "id": "a2db311b-f8ba-487e-9df1-5a914ef1be56",
   "metadata": {},
   "outputs": [],
   "source": [
    "cv_model = cv.fit(train)"
   ]
  },
  {
   "cell_type": "code",
   "execution_count": 22,
   "id": "e7d955dd-e363-4430-bf8f-a306e2f8fcba",
   "metadata": {},
   "outputs": [],
   "source": [
    "newPrediction = cv_model.transform(test)"
   ]
  },
  {
   "cell_type": "code",
   "execution_count": 23,
   "id": "4aa6213f-b360-453c-aff1-8b017810d854",
   "metadata": {},
   "outputs": [
    {
     "name": "stdout",
     "output_type": "stream",
     "text": [
      "+---------+------------------+\n",
      "|   metric|             value|\n",
      "+---------+------------------+\n",
      "|       TP|           35878.0|\n",
      "|       FP|            3203.0|\n",
      "|       TN|               0.0|\n",
      "|       FN|               2.0|\n",
      "|Precision|0.9180420153015532|\n",
      "|   Recall|0.9999442586399108|\n",
      "|       F1|0.9572444337722281|\n",
      "+---------+------------------+\n",
      "\n"
     ]
    }
   ],
   "source": [
    "# Recalculate confusion matrix\n",
    "tp2 = float(newPrediction.filter(\"prediction == 1.0 AND truelabel == 1\").count())\n",
    "fp2 = float(newPrediction.filter(\"prediction == 1.0 AND truelabel == 0\").count())\n",
    "tn2 = float(newPrediction.filter(\"prediction == 0.0 AND truelabel == 0\").count())\n",
    "fn2 = float(newPrediction.filter(\"prediction == 0.0 AND truelabel == 1\").count())\n",
    "pr2 = tp2 / (tp2 + fp2)\n",
    "re2 = tp2 / (tp2 + fn2)\n",
    "metrics2 = spark.createDataFrame([\n",
    " (\"TP\", tp2),\n",
    " (\"FP\", fp2),\n",
    " (\"TN\", tn2),\n",
    " (\"FN\", fn2),\n",
    " (\"Precision\", pr2),\n",
    " (\"Recall\", re2),\n",
    " (\"F1\", 2*pr2*re2/(re2+pr2))],[\"metric\", \"value\"])\n",
    "metrics2.show()"
   ]
  },
  {
   "cell_type": "code",
   "execution_count": 24,
   "id": "df09d93c-91ca-42ae-afe9-0fd227b6194a",
   "metadata": {},
   "outputs": [
    {
     "name": "stdout",
     "output_type": "stream",
     "text": [
      "AUR2 =  0.4999721293199554\n"
     ]
    }
   ],
   "source": [
    "# Recalculate the Area Under ROC\n",
    "evaluator2 = BinaryClassificationEvaluator(labelCol=\"trueLabel\", rawPredictionCol=\"prediction\", metricName=\"areaUnderROC\")\n",
    "aur2 = evaluator2.evaluate(newPrediction)\n",
    "print( \"AUR2 = \", aur2)"
   ]
  },
  {
   "cell_type": "code",
   "execution_count": null,
   "id": "be6ff9c0-5268-4349-a7c2-1abe5e2510eb",
   "metadata": {},
   "outputs": [],
   "source": []
  }
 ],
 "metadata": {
  "kernelspec": {
   "display_name": "Python 3 (ipykernel)",
   "language": "python",
   "name": "python3"
  },
  "language_info": {
   "codemirror_mode": {
    "name": "ipython",
    "version": 3
   },
   "file_extension": ".py",
   "mimetype": "text/x-python",
   "name": "python",
   "nbconvert_exporter": "python",
   "pygments_lexer": "ipython3",
   "version": "3.10.6"
  }
 },
 "nbformat": 4,
 "nbformat_minor": 5
}
